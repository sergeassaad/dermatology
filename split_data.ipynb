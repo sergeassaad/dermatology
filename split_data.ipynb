{
 "cells": [
  {
   "cell_type": "code",
   "execution_count": 16,
   "metadata": {},
   "outputs": [
    {
     "name": "stdout",
     "output_type": "stream",
     "text": [
      "1.13.1\n"
     ]
    }
   ],
   "source": [
    "from __future__ import absolute_import, division, print_function\n",
    "\n",
    "# TensorFlow and tf.keras\n",
    "import tensorflow as tf\n",
    "from tensorflow import keras\n",
    "\n",
    "# Helper libraries\n",
    "import numpy as np\n",
    "import matplotlib.pyplot as plt\n",
    "import pandas as pd\n",
    "import os\n",
    "import shutil\n",
    "print(tf.__version__)\n",
    "\n",
    "np.random.seed(123)"
   ]
  },
  {
   "cell_type": "code",
   "execution_count": 6,
   "metadata": {},
   "outputs": [],
   "source": [
    "labels_file = \"ISIC_2019_Training_GroundTruth.csv\"\n",
    "labels = pd.read_csv(labels_file, index_col=0, parse_dates=True)"
   ]
  },
  {
   "cell_type": "markdown",
   "metadata": {},
   "source": [
    "# Split Train & Val set such that label distributions match"
   ]
  },
  {
   "cell_type": "code",
   "execution_count": 7,
   "metadata": {},
   "outputs": [],
   "source": [
    "train_labels = pd.DataFrame()\n",
    "val_labels = pd.DataFrame()\n",
    "train_percent = 0.9\n",
    "\n",
    "for col in labels.columns:\n",
    "    curr_class = labels.loc[labels[col]==1]\n",
    "    N_curr = len(curr_class)\n",
    "    np.random.seed(123)\n",
    "    perm = np.random.permutation(N_curr)\n",
    "    curr_class = curr_class.iloc[perm]\n",
    "    curr_train = curr_class.iloc[:int(train_percent*N_curr)]\n",
    "    curr_val = curr_class.iloc[int(train_percent*N_curr):]\n",
    "    \n",
    "    train_labels = train_labels.append(curr_train)\n",
    "    val_labels = val_labels.append(curr_val)"
   ]
  },
  {
   "cell_type": "code",
   "execution_count": 8,
   "metadata": {},
   "outputs": [
    {
     "name": "stdout",
     "output_type": "stream",
     "text": [
      "Train class distribution\n",
      " MEL     0.178512\n",
      "NV      0.508336\n",
      "BCC     0.131175\n",
      "AK      0.034220\n",
      "BKL     0.103580\n",
      "DF      0.009432\n",
      "VASC    0.009959\n",
      "SCC     0.024787\n",
      "UNK     0.000000\n",
      "dtype: float64\n",
      "\n",
      "Val class distribution\n",
      " MEL     0.178557\n",
      "NV      0.507686\n",
      "BCC     0.131257\n",
      "AK      0.034292\n",
      "BKL     0.103666\n",
      "DF      0.009460\n",
      "VASC    0.010248\n",
      "SCC     0.024832\n",
      "UNK     0.000000\n",
      "dtype: float64\n"
     ]
    }
   ],
   "source": [
    "train_class_dist = train_labels.sum(axis = 0, skipna = True)\n",
    "val_class_dist = val_labels.sum(axis=0,skipna=True)\n",
    "print(\"Train class distribution\\n\",train_class_dist/sum(train_class_dist))\n",
    "print(\"\\nVal class distribution\\n\",val_class_dist/sum(val_class_dist))"
   ]
  },
  {
   "cell_type": "markdown",
   "metadata": {},
   "source": [
    "Success!"
   ]
  },
  {
   "cell_type": "markdown",
   "metadata": {},
   "source": [
    "# Split train and val data into directories"
   ]
  },
  {
   "cell_type": "code",
   "execution_count": 9,
   "metadata": {},
   "outputs": [],
   "source": [
    "train_names = train_labels.index\n",
    "val_names = val_labels.index"
   ]
  },
  {
   "cell_type": "code",
   "execution_count": 10,
   "metadata": {},
   "outputs": [],
   "source": [
    "train_labels = train_labels.sort_values(\"image\")\n",
    "val_labels = val_labels.sort_values(\"image\")"
   ]
  },
  {
   "cell_type": "code",
   "execution_count": 14,
   "metadata": {},
   "outputs": [],
   "source": [
    "for curr_class in labels.columns:\n",
    "    path = os.path.join(\"data\",\"val\",curr_class)\n",
    "    if not os.path.exists(path):\n",
    "        os.mkdir(path)\n",
    "        \n",
    "for curr_class in labels.columns:\n",
    "    path = os.path.join(\"data\",\"train\",curr_class)\n",
    "    if not os.path.exists(path):\n",
    "        os.mkdir(path)"
   ]
  },
  {
   "cell_type": "code",
   "execution_count": 17,
   "metadata": {},
   "outputs": [],
   "source": [
    "src = \"ISIC_2019_Training_Input\"\n",
    "for i in range(len(train_labels)):\n",
    "    label = train_labels.iloc[i]\n",
    "    curr_class = label[label==1].index[0]\n",
    "    dest = os.path.join(\"data\",\"train\",curr_class)\n",
    "    name = label.name + \".jpg\"\n",
    "    full_file_name = os.path.join(src,name)\n",
    "    if (os.path.isfile(full_file_name)):\n",
    "        shutil.copy(full_file_name, dest)"
   ]
  },
  {
   "cell_type": "code",
   "execution_count": 18,
   "metadata": {},
   "outputs": [],
   "source": [
    "src = \"ISIC_2019_Training_Input\"\n",
    "for i in range(len(val_labels)):\n",
    "    label = val_labels.iloc[i]\n",
    "    curr_class = label[label==1].index[0]\n",
    "    dest = os.path.join(\"data\",\"val\",curr_class)\n",
    "    name = label.name + \".jpg\"\n",
    "    full_file_name = os.path.join(src,name)\n",
    "    if (os.path.isfile(full_file_name)):\n",
    "        shutil.copy(full_file_name, dest)"
   ]
  }
 ],
 "metadata": {
  "kernelspec": {
   "display_name": "Python 3",
   "language": "python",
   "name": "python3"
  },
  "language_info": {
   "codemirror_mode": {
    "name": "ipython",
    "version": 3
   },
   "file_extension": ".py",
   "mimetype": "text/x-python",
   "name": "python",
   "nbconvert_exporter": "python",
   "pygments_lexer": "ipython3",
   "version": "3.5.2"
  }
 },
 "nbformat": 4,
 "nbformat_minor": 2
}
